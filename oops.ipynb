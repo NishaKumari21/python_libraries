{
 "cells": [
  {
   "cell_type": "markdown",
   "metadata": {},
   "source": [
    "OBJECT ORIENTED PROGRAMMING\n",
    "<!-- constructor:used to intialise special type of method which is automatically called when the object is created -->"
   ]
  },
  {
   "cell_type": "code",
   "execution_count": 9,
   "metadata": {},
   "outputs": [],
   "source": [
    "class Student:\n",
    "    student_name=\"Rahul\"\n",
    "    student_college=\"Poornima Institue\"\n",
    "    college_city=\"Jaipur\"\n",
    "    # to access class property you need  a object\n",
    "    # object or Instance Creation\n",
    "obj=Student()\n",
    "# print(obj.student_name)\n",
    "# print(obj.student_college)\n",
    "# print(obj.college_city)"
   ]
  },
  {
   "cell_type": "code",
   "execution_count": 13,
   "metadata": {},
   "outputs": [
    {
     "data": {
      "text/plain": [
       "'Poornima Institue'"
      ]
     },
     "execution_count": 13,
     "metadata": {},
     "output_type": "execute_result"
    }
   ],
   "source": [
    "Student.student_college"
   ]
  },
  {
   "cell_type": "code",
   "execution_count": 10,
   "metadata": {},
   "outputs": [
    {
     "name": "stdout",
     "output_type": "stream",
     "text": [
      "Rahul\n"
     ]
    }
   ],
   "source": [
    "print(obj.student_name)"
   ]
  },
  {
   "cell_type": "code",
   "execution_count": 11,
   "metadata": {},
   "outputs": [
    {
     "name": "stdout",
     "output_type": "stream",
     "text": [
      "Poornima Institue\n"
     ]
    }
   ],
   "source": [
    "print(obj.student_college)"
   ]
  },
  {
   "cell_type": "code",
   "execution_count": 12,
   "metadata": {},
   "outputs": [
    {
     "name": "stdout",
     "output_type": "stream",
     "text": [
      "Jaipur\n"
     ]
    }
   ],
   "source": [
    "print(obj.college_city)"
   ]
  },
  {
   "cell_type": "code",
   "execution_count": 4,
   "metadata": {},
   "outputs": [
    {
     "name": "stdout",
     "output_type": "stream",
     "text": [
      "rahul\n"
     ]
    }
   ],
   "source": [
    "name=\"rahul\"\n",
    "print(name)"
   ]
  },
  {
   "cell_type": "code",
   "execution_count": 3,
   "metadata": {},
   "outputs": [
    {
     "ename": "NameError",
     "evalue": "name 'student_name' is not defined",
     "output_type": "error",
     "traceback": [
      "\u001b[1;31m---------------------------------------------------------------------------\u001b[0m",
      "\u001b[1;31mNameError\u001b[0m                                 Traceback (most recent call last)",
      "Cell \u001b[1;32mIn[3], line 1\u001b[0m\n\u001b[1;32m----> 1\u001b[0m \u001b[38;5;28mprint\u001b[39m(\u001b[43mstudent_name\u001b[49m)\n",
      "\u001b[1;31mNameError\u001b[0m: name 'student_name' is not defined"
     ]
    }
   ],
   "source": [
    "print(student_name)"
   ]
  },
  {
   "cell_type": "code",
   "execution_count": 17,
   "metadata": {},
   "outputs": [],
   "source": [
    "class Student:\n",
    "    # --------class variables---\n",
    "    student_name=\"rohit\"\n",
    "    student_college=\"poornima\"\n",
    "   \n",
    "    # feature of constructors--\n",
    "    # this self should be same and it is never called,it is by default  automatically\n",
    "    def __init__(self):\n",
    "        # to create or initialise variable made by constructors\n",
    "        # self:default paramter\n",
    "        # -------------instance variables------\n",
    "        self.student_roll_no=25\n",
    "        self.student_branch=\"CSE\"\n",
    "        self.student_address=\"Vrindavan Mathura\"\n",
    "        print(\"constructor executed\")"
   ]
  },
  {
   "cell_type": "code",
   "execution_count": 20,
   "metadata": {},
   "outputs": [
    {
     "name": "stdout",
     "output_type": "stream",
     "text": [
      "constructor executed\n"
     ]
    }
   ],
   "source": [
    "# no of times obj created,multiple times code excute\n",
    "obj1=Student() \n",
    "# obj2=Student()"
   ]
  },
  {
   "cell_type": "code",
   "execution_count": 21,
   "metadata": {},
   "outputs": [
    {
     "data": {
      "text/plain": [
       "'rohit'"
      ]
     },
     "execution_count": 21,
     "metadata": {},
     "output_type": "execute_result"
    }
   ],
   "source": [
    "obj1.student_name"
   ]
  },
  {
   "cell_type": "code",
   "execution_count": 22,
   "metadata": {},
   "outputs": [
    {
     "data": {
      "text/plain": [
       "25"
      ]
     },
     "execution_count": 22,
     "metadata": {},
     "output_type": "execute_result"
    }
   ],
   "source": [
    "obj1.student_roll_no"
   ]
  },
  {
   "cell_type": "code",
   "execution_count": 15,
   "metadata": {},
   "outputs": [
    {
     "data": {
      "text/plain": [
       "'rohit'"
      ]
     },
     "execution_count": 15,
     "metadata": {},
     "output_type": "execute_result"
    }
   ],
   "source": [
    "Student.student_name \n",
    "# class variables \n",
    "# class variable and instance variable diff"
   ]
  },
  {
   "cell_type": "code",
   "execution_count": 16,
   "metadata": {},
   "outputs": [
    {
     "ename": "AttributeError",
     "evalue": "type object 'Student' has no attribute 'student_roll_no'",
     "output_type": "error",
     "traceback": [
      "\u001b[1;31m---------------------------------------------------------------------------\u001b[0m",
      "\u001b[1;31mAttributeError\u001b[0m                            Traceback (most recent call last)",
      "Cell \u001b[1;32mIn[16], line 1\u001b[0m\n\u001b[1;32m----> 1\u001b[0m \u001b[43mStudent\u001b[49m\u001b[38;5;241;43m.\u001b[39;49m\u001b[43mstudent_roll_no\u001b[49m\n",
      "\u001b[1;31mAttributeError\u001b[0m: type object 'Student' has no attribute 'student_roll_no'"
     ]
    }
   ],
   "source": [
    "Student.student_roll_no\n",
    "# AttributeError "
   ]
  },
  {
   "cell_type": "code",
   "execution_count": 48,
   "metadata": {},
   "outputs": [],
   "source": [
    "class Student:\n",
    "    # --------class variables---\n",
    "    student_name=\"rohit\"\n",
    "    student_college=\"poornima\"\n",
    "   \n",
    "    \n",
    "    def __init__(self,roll_no,branch,address,marks_ls):\n",
    "        # to create or initialise variable made by constructors\n",
    "        # self:default paramter\n",
    "        # -------------instance variables------\n",
    "        self.student_roll_no=roll_no\n",
    "        self.student_branch=branch\n",
    "        self.student_address=address\n",
    "        self.subject_marks=marks_ls\n",
    "        print(\"constructor executed\")\n",
    "        # function in oops are called method:\n",
    "        # instance method\n",
    "        # static method\n",
    "        # class method\n",
    "        # abstract method\n",
    "    def marks_avg_finder(self):\n",
    "        # --self.subject_marks\n",
    "        # total_marks=sum(self.subject_marks)\n",
    "        # avg_marks=total_marks/len(self.subject_marks)\n",
    "        # return avg_marks\n",
    "        marks=self.subject_marks\n",
    "        total_sum=0\n",
    "        count=0\n",
    "        for mark in marks:\n",
    "            total_sum=total_sum+mark\n",
    "            count=count + 1\n",
    "        print(\"your avg marks:\",total_sum/count)\n",
    "\n"
   ]
  },
  {
   "cell_type": "code",
   "execution_count": 49,
   "metadata": {},
   "outputs": [
    {
     "name": "stdout",
     "output_type": "stream",
     "text": [
      "constructor executed\n",
      "constructor executed\n"
     ]
    }
   ],
   "source": [
    "manshi=Student(roll_no=22,branch=\"IT\",address=\"raj\",marks_ls=[23,45,78,89,90])\n",
    "sachine=Student(roll_no=31,branch=\"Civil\",address=\"Kashmir\",marks_ls=[23,40,72,81,92])"
   ]
  },
  {
   "cell_type": "code",
   "execution_count": 51,
   "metadata": {},
   "outputs": [
    {
     "name": "stdout",
     "output_type": "stream",
     "text": [
      "your avg marks: 61.6\n"
     ]
    }
   ],
   "source": [
    "sachine.marks_avg_finder()"
   ]
  },
  {
   "cell_type": "code",
   "execution_count": 36,
   "metadata": {},
   "outputs": [
    {
     "data": {
      "text/plain": [
       "[23, 40, 72, 81, 92]"
      ]
     },
     "execution_count": 36,
     "metadata": {},
     "output_type": "execute_result"
    }
   ],
   "source": [
    "sachine.subject_marks"
   ]
  },
  {
   "cell_type": "code",
   "execution_count": 37,
   "metadata": {},
   "outputs": [
    {
     "data": {
      "text/plain": [
       "22"
      ]
     },
     "execution_count": 37,
     "metadata": {},
     "output_type": "execute_result"
    }
   ],
   "source": [
    "manshi.student_roll_no"
   ]
  },
  {
   "cell_type": "code",
   "execution_count": 24,
   "metadata": {},
   "outputs": [
    {
     "name": "stdout",
     "output_type": "stream",
     "text": [
      "constructor executed\n",
      "constructor executed\n"
     ]
    }
   ],
   "source": [
    "obj1=Student(roll_no=11,branch=\"CSE\",address=\"vrindavan\")\n",
    "obj2=Student(roll_no=21,branch=\"IT\",address=\"Jaipur\")"
   ]
  },
  {
   "cell_type": "code",
   "execution_count": 25,
   "metadata": {},
   "outputs": [
    {
     "data": {
      "text/plain": [
       "11"
      ]
     },
     "execution_count": 25,
     "metadata": {},
     "output_type": "execute_result"
    }
   ],
   "source": [
    "obj1.student_roll_no"
   ]
  },
  {
   "cell_type": "code",
   "execution_count": 26,
   "metadata": {},
   "outputs": [
    {
     "data": {
      "text/plain": [
       "21"
      ]
     },
     "execution_count": 26,
     "metadata": {},
     "output_type": "execute_result"
    }
   ],
   "source": [
    "obj2.student_roll_no"
   ]
  },
  {
   "cell_type": "code",
   "execution_count": 6,
   "metadata": {},
   "outputs": [],
   "source": [
    "class pratice:\n",
    "    def __init__(self):\n",
    "      self.random_numbers=[25,41,63,9,58,75,95,45,68,25,3,4,61,2]\n",
    "    # instance method\n",
    "   \n",
    "    def target_finder(target,random_numbers):\n",
    "       if target in random_numbers:\n",
    "          print(f\"The target {target} is found at index: \",random_numbers.index(target))\n",
    "       else:\n",
    "            print(f\"The target {target} is not found in the list.\")\n",
    "       "
   ]
  },
  {
   "cell_type": "code",
   "execution_count": 4,
   "metadata": {},
   "outputs": [],
   "source": [
    "class pratice:\n",
    "    def __init__(self):\n",
    "        self.random_numbers=[25,41,63,9,58,75,95,45,68,25,3,4,61,2]\n",
    "\n",
    "    def target_finder(self, target):\n",
    "        for index, number in enumerate(self.random_numbers):\n",
    "            if number == target:\n",
    "                print(f\"The target {target} is found at index: \", index)\n",
    "                return\n",
    "        print(f\"The target {target} is not found in the list.\")"
   ]
  },
  {
   "cell_type": "code",
   "execution_count": 7,
   "metadata": {},
   "outputs": [
    {
     "name": "stdout",
     "output_type": "stream",
     "text": [
      "The target 2 is found at index:  13\n"
     ]
    }
   ],
   "source": [
    "pratice.target_finder(2, [25, 41, 63, 9, 58, 75, 95, 45, 68, 25, 3, 4, 61, 2])"
   ]
  },
  {
   "cell_type": "code",
   "execution_count": 3,
   "metadata": {},
   "outputs": [
    {
     "name": "stdout",
     "output_type": "stream",
     "text": [
      "Index: 0, Number: 25\n",
      "Index: 1, Number: 41\n",
      "Index: 2, Number: 63\n",
      "Index: 3, Number: 9\n",
      "Index: 4, Number: 58\n",
      "Index: 5, Number: 75\n",
      "Index: 6, Number: 95\n",
      "Index: 7, Number: 45\n",
      "Index: 8, Number: 68\n",
      "Index: 9, Number: 25\n",
      "Index: 10, Number: 3\n",
      "Index: 11, Number: 4\n",
      "Index: 12, Number: 61\n",
      "Index: 13, Number: 2\n"
     ]
    }
   ],
   "source": [
    "numbers = [25, 41, 63, 9, 58, 75, 95, 45, 68, 25, 3, 4, 61, 2]\n",
    "\n",
    "for index, number in enumerate(numbers):\n",
    "    print(f\"Index: {index}, Number: {number}\")"
   ]
  },
  {
   "cell_type": "code",
   "execution_count": 43,
   "metadata": {},
   "outputs": [],
   "source": [
    "class Student:\n",
    "    # clss variables--\n",
    "    depart=\"cse\"\n",
    "    coordinator=\"shinchan\"\n",
    "    def __init__(self,name,roll,college,city):\n",
    "        self.name=name\n",
    "        self.roll=roll\n",
    "        self.college=college\n",
    "        self.college_city=city\n",
    "        # we created instance method to deal with instance variable same with clss method and clss variable\n",
    "        # instance variable\n",
    "    def display(self):\n",
    "        print(self.name)\n",
    "        print(self.roll)\n",
    "        print(self.college)\n",
    "        print(self.college_city)\n",
    "\n",
    "        # def display2():\n",
    "        #     print(depart)6\n",
    "        #     print(coordinator)\n",
    "    #    class method\n",
    "    @classmethod\n",
    "    # when you want to call the func using the clss then it will create error\n",
    "    def display2(cls):\n",
    "        print(cls.depart)\n",
    "        print(cls.coordinator)\n",
    "    # static method\n",
    "    @staticmethod\n",
    "    def display3():\n",
    "        print(\"hii this is static method\")"
   ]
  },
  {
   "cell_type": "code",
   "execution_count": 44,
   "metadata": {},
   "outputs": [],
   "source": [
    "obj1=Student(name=\"rahul\",roll=101,college=\"poornima\",city=\"jaipur\")"
   ]
  },
  {
   "cell_type": "code",
   "execution_count": 45,
   "metadata": {},
   "outputs": [
    {
     "data": {
      "text/plain": [
       "'jaipur'"
      ]
     },
     "execution_count": 45,
     "metadata": {},
     "output_type": "execute_result"
    }
   ],
   "source": [
    "obj1.college_city"
   ]
  },
  {
   "cell_type": "code",
   "execution_count": 46,
   "metadata": {},
   "outputs": [
    {
     "name": "stdout",
     "output_type": "stream",
     "text": [
      "rahul\n",
      "101\n",
      "poornima\n",
      "jaipur\n"
     ]
    }
   ],
   "source": [
    "obj1.display()"
   ]
  },
  {
   "cell_type": "code",
   "execution_count": 47,
   "metadata": {},
   "outputs": [
    {
     "name": "stdout",
     "output_type": "stream",
     "text": [
      "cse\n",
      "shinchan\n"
     ]
    }
   ],
   "source": [
    "obj1.display2()"
   ]
  },
  {
   "cell_type": "code",
   "execution_count": 48,
   "metadata": {},
   "outputs": [
    {
     "name": "stdout",
     "output_type": "stream",
     "text": [
      "cse\n",
      "shinchan\n"
     ]
    }
   ],
   "source": [
    "Student.display2()\n",
    "# @classmethod error occur\n",
    "# by default instance method is created only"
   ]
  },
  {
   "cell_type": "code",
   "execution_count": 52,
   "metadata": {},
   "outputs": [
    {
     "ename": "AttributeError",
     "evalue": "type object 'Student' has no attribute 'cls'",
     "output_type": "error",
     "traceback": [
      "\u001b[1;31m---------------------------------------------------------------------------\u001b[0m",
      "\u001b[1;31mAttributeError\u001b[0m                            Traceback (most recent call last)",
      "Cell \u001b[1;32mIn[52], line 1\u001b[0m\n\u001b[1;32m----> 1\u001b[0m \u001b[43mStudent\u001b[49m\u001b[38;5;241;43m.\u001b[39;49m\u001b[43mcls\u001b[49m\u001b[38;5;241m.\u001b[39mdepart\n",
      "\u001b[1;31mAttributeError\u001b[0m: type object 'Student' has no attribute 'cls'"
     ]
    }
   ],
   "source": [
    "Student.cls.depart"
   ]
  },
  {
   "cell_type": "markdown",
   "metadata": {},
   "source": [
    "function and methods diff:\n",
    "------------func inside the class --then it is called method \n",
    "1.class method--------CLS keyword--used to refer to the clss\n",
    "2.instance method-------------self keyword---used to refer the instance\n",
    "3.Static method\n",
    "3.Abstract method\n",
    "Qwhy do we use static method\n",
    "----------4 pillars of oops-------\n",
    "1.inheritance\n",
    "2.encapsulation\n",
    "3.polymorphism\n",
    "4.abstraction"
   ]
  }
 ],
 "metadata": {
  "kernelspec": {
   "display_name": "Python 3",
   "language": "python",
   "name": "python3"
  },
  "language_info": {
   "codemirror_mode": {
    "name": "ipython",
    "version": 3
   },
   "file_extension": ".py",
   "mimetype": "text/x-python",
   "name": "python",
   "nbconvert_exporter": "python",
   "pygments_lexer": "ipython3",
   "version": "3.12.2"
  }
 },
 "nbformat": 4,
 "nbformat_minor": 2
}
